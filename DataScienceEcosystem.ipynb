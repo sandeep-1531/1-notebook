{
 "cells": [
  {
   "cell_type": "markdown",
   "id": "f22a3601-a7c6-428c-a32f-43c439ab930b",
   "metadata": {},
   "source": [
    "<h1>Data Science Tools and Ecosystem</h1>"
   ]
  },
  {
   "cell_type": "markdown",
   "id": "be10142a-94ac-43ea-a9b0-a04692db13a0",
   "metadata": {},
   "source": [
    "In this notebook, Data Science Tools and Ecosystem are summarized."
   ]
  },
  {
   "cell_type": "markdown",
   "id": "69b91789-64f5-4de4-a932-9daa141c85e3",
   "metadata": {},
   "source": [
    "<b>Objectives:</b>\n",
    "<ul>\n",
    "  <li>Python</li>\n",
    "  <li>R</li>\n",
    "  <li>SQL</li>\n",
    "  <li>Julia</li>\n",
    "  <li>Scala</li>\n",
    "</ul>"
   ]
  },
  {
   "cell_type": "markdown",
   "id": "f043c02b-84da-48a1-81b2-f5dd06043d03",
   "metadata": {},
   "source": [
    "Some of the popular languages that Data Scientists use are:\n",
    "<ol>\n",
    "  <li>Python</li>\n",
    "  <li>SQL</li>\n",
    "  <li>R-Studio</li>\n",
    "</ol>"
   ]
  },
  {
   "cell_type": "markdown",
   "id": "57e6a489-236a-4abf-ab98-7c5ad422dc8e",
   "metadata": {},
   "source": [
    "Some of the commonly used libraries used by Data Scientists include:\n",
    "<ol>\n",
    "  <li>Pandas</li>\n",
    "  <li>Numpy</li>\n",
    "  <li>Matplotlib</li>\n",
    "</ol>"
   ]
  },
  {
   "cell_type": "markdown",
   "id": "1838944b-a160-48ad-8f7d-457e045129aa",
   "metadata": {},
   "source": [
    "<table>\n",
    "  <tr>\n",
    "    <th>Data Science Tools</th>\n",
    "  </tr>\n",
    "  <tr>\n",
    "    <td>1. RStudio</td>\n",
    "  </tr>\n",
    "  <tr>\n",
    "    <td>2. Apache Spark</td>\n",
    "  </tr>\n",
    "  <tr>\n",
    "    <td>3. TensorFlow</td>\n",
    "  </tr>\n",
    "</table>"
   ]
  },
  {
   "cell_type": "markdown",
   "id": "396cc29e-b45c-43e9-a138-f831d2920288",
   "metadata": {},
   "source": [
    "</h3>Below are a few examples of evaluating arithmetic expressions in Python <br>\n",
    "Addition: + <br>\n",
    "Subtraction - <br>\n",
    "Multiplication: * <br>\n",
    "Division: / <br>\n",
    "Modulus: % <br>\n",
    "Exponentiation: ** <br>\n",
    "</h3>"
   ]
  },
  {
   "cell_type": "code",
   "execution_count": 1,
   "id": "c0f8a56e-c6e9-4088-9f9f-8d4286d9bcfc",
   "metadata": {},
   "outputs": [
    {
     "data": {
      "text/plain": [
       "17"
      ]
     },
     "execution_count": 1,
     "metadata": {},
     "output_type": "execute_result"
    }
   ],
   "source": [
    "#This a simple arithmetic expression to mutiply then add integers\n",
    "(3*4)+5"
   ]
  },
  {
   "cell_type": "code",
   "execution_count": 6,
   "id": "73ae62d8-2736-4342-b45c-6ba1f796f6f5",
   "metadata": {},
   "outputs": [
    {
     "name": "stdout",
     "output_type": "stream",
     "text": [
      "Hours= 3\n"
     ]
    }
   ],
   "source": [
    "#This will convert 200 minutes to hours by diving by 60\n",
    "h=200//60\n",
    "print(\"Hours=\",h)"
   ]
  },
  {
   "cell_type": "markdown",
   "id": "e759e11e-ce92-4e63-be8a-c57bfcde3dfb",
   "metadata": {},
   "source": [
    "<h2> Author </h2>\n",
    "Sandeep KM"
   ]
  },
  {
   "cell_type": "code",
   "execution_count": null,
   "id": "1b56536d-2b07-4d3c-b363-225fe223aefd",
   "metadata": {},
   "outputs": [],
   "source": []
  }
 ],
 "metadata": {
  "kernelspec": {
   "display_name": "Python 3 (ipykernel)",
   "language": "python",
   "name": "python3"
  },
  "language_info": {
   "codemirror_mode": {
    "name": "ipython",
    "version": 3
   },
   "file_extension": ".py",
   "mimetype": "text/x-python",
   "name": "python",
   "nbconvert_exporter": "python",
   "pygments_lexer": "ipython3",
   "version": "3.12.7"
  }
 },
 "nbformat": 4,
 "nbformat_minor": 5
}
